{
  "nbformat": 4,
  "nbformat_minor": 0,
  "metadata": {
    "colab": {
      "provenance": []
    },
    "kernelspec": {
      "name": "python3",
      "display_name": "Python 3"
    },
    "language_info": {
      "name": "python"
    }
  },
  "cells": [
    {
      "cell_type": "code",
      "execution_count": 7,
      "metadata": {
        "id": "OqsTbMIVGa_z"
      },
      "outputs": [],
      "source": [
        "import math"
      ]
    },
    {
      "cell_type": "code",
      "source": [
        "def calcular_volumen(D, L, HL):\n",
        "    r = D / 2\n",
        "    V = L * (((math.pi * D**2) / 4) - ((D**2 / 4) * math.acos((D - 2 * HL) / D)) - (D / 2 - HL) * math.sqrt((D**2 / 4) - (D / 2 - HL)**2))\n",
        "    return V\n",
        "\n",
        "# Definir los valores para probar la función\n",
        "D = 82  # Diámetro del cilindro en unidades adecuadas\n",
        "L = 113  # Longitud del cilindro en unidades adecuadas\n",
        "\n",
        "# Puntos específicos requeridos en el enunciado\n",
        "print(\"Volumen cuando no queda altura libre:\", calcular_volumen(D, L, 0))\n",
        "\n",
        "print(\"Volumen cuando la altura libre es igual al radio del tanque:\", calcular_volumen(D, L, D / 2))\n",
        "\n",
        "print(\"Máxima capacidad del tanque:\", calcular_volumen(D, L, 0))\n",
        "\n",
        "print(\"Volumen cuando la altura libre es una décima parte del diámetro del tanque:\", calcular_volumen(D, L, D / 10))"
      ],
      "metadata": {
        "colab": {
          "base_uri": "https://localhost:8080/"
        },
        "id": "l4TepgTdU7f6",
        "outputId": "6da99256-88ea-4127-d0e7-ef3836b63a09"
      },
      "execution_count": 8,
      "outputs": [
        {
          "output_type": "stream",
          "name": "stdout",
          "text": [
            "Volumen cuando no queda altura libre: 596754.949327342\n",
            "Volumen cuando la altura libre es igual al radio del tanque: 298377.474663671\n",
            "Máxima capacidad del tanque: 596754.949327342\n",
            "Volumen cuando la altura libre es una décima parte del diámetro del tanque: 383342.54320873116\n"
          ]
        }
      ]
    }
  ]
}